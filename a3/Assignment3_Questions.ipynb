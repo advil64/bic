{
 "cells": [
  {
   "cell_type": "markdown",
   "metadata": {},
   "source": [
    "# Learning Goals\n",
    "In Assignment 2, we learnt how to construct networks of spiking neurons and propagate information through a network of fixed weights. In this assignment, you will learn how to train network weights for a given task using brain-inspired learning rules.\n",
    "\n",
    "Let's import all the libraries required for this assignment. "
   ]
  },
  {
   "cell_type": "code",
   "execution_count": 1,
   "metadata": {
    "tags": []
   },
   "outputs": [],
   "source": [
    "import math\n",
    "import numpy as np\n",
    "import matplotlib.pyplot as plt"
   ]
  },
  {
   "cell_type": "markdown",
   "metadata": {},
   "source": [
    "# Question 1: Training a Network\n",
    "\n",
    "## 1a. \n",
    "What is the purpose of a learning algorithm? In other words, what does a learning algorithm dictate, and what is the objective of it?"
   ]
  },
  {
   "cell_type": "markdown",
   "metadata": {},
   "source": [
    "## Answer 1a. \n",
    "A learning algorithm (otherwise called a model) attempts to take some input and map it to some output. Now you might call this a function, and you would be correct, but a learning algorithm is merely a function approximator. Not all input/output combinations have underlying functions, some things in life are just random. Therefore, we try to build a function approximator that tries to minimize the error for this mapping. Thus given some input output pairs, we build a function approximator, that learns the function by minimizing the error between its predictions and the ground truth."
   ]
  },
  {
   "cell_type": "markdown",
   "metadata": {},
   "source": [
    "## 1b. \n",
    "Categorize and explain the various learning algorithms w.r.t. biological plausibility. Can you explain the tradeoffs involved with the different learning rules? *Hint: Think computational advantages and disadvantages of biological plausibility.*"
   ]
  },
  {
   "cell_type": "markdown",
   "metadata": {},
   "source": [
    "## Answer 1b. \n",
    "Some of the more popular learning algorithm paradigms include\n",
    "- Supervised Learning: Supervised Learning is the classic function approximator learning algorithm. We get inputs and outputs and we need to find a function that minimizes the error. The biological plausibility or supervised learning is not very strong since labeled data isn't something that's often seen in real life. However, one might make the argument that reflexes such as actions taken when you get a sensory input are a result of your brain using a model that is akin to supervised learning.\n",
    "- Unsupervised Learning: For unsupervised learning, the model is not given any labels which you would imagine to be more similar to how real life works. Instead, the model exploits the underlying structure in the data to learn patterns. This is more biologically plausible (similar items are grouped together in the brain).\n",
    "- Reinforcement Learning: Given a reward function and some start point, RL aims to maximize the reward in its environment by taking actions. This is also biologically plausible since the world and society in general has a set of unspoken reward functions which condition our behavior.\n",
    "- Hebbian Learning: Hebbian learning is a type of unsupervised learning that is biologically plausible. It states that neurons that fire together wire together. This is a very simple learning rule that is often used in the brain to learn patterns. However, it is not very good at learning complex patterns."
   ]
  },
  {
   "cell_type": "markdown",
   "metadata": {},
   "source": [
    "# Question 2: Hebbian Learning\n",
    "\n",
    "## 2a.\n",
    "\n",
    "In this exercise, you will implement the hebbian learning rule to solve AND Gate. First, we need to create a helper function to generate the training data. The function should return lists of tuples where each tuple comprises of numpy arrays of rate-coded inputs and the corresponding rate-coded output. \n",
    "\n",
    "Below is the function to generate the training data. Fill the components to return the training data. "
   ]
  },
  {
   "cell_type": "code",
   "execution_count": 2,
   "metadata": {},
   "outputs": [],
   "source": [
    "def genANDTrainData(snn_timestep):\n",
    "    \"\"\" \n",
    "    Function to generate the training data for AND \n",
    "        Args:\n",
    "            snn_timestep (int): timesteps for SNN simulation\n",
    "        Return:\n",
    "            train_data (list): list of tuples where each tuple comprises of numpy arrays of rate-coded inputs and output\n",
    "        \n",
    "        Write the expressions for encoding 0 and 1. Then append all 4 cases of AND gate to the list train_data\n",
    "    \"\"\"\n",
    "    \n",
    "    #Initialize an empty list for train data\n",
    "    train_data = []\n",
    "    \n",
    "    #encode 0. Numpy random choice function might be useful here. \n",
    "    z = np.random.choice([0,1], size=snn_timestep, p=[0.7, 0.3])\n",
    "    \n",
    "    #encode 1. Numpy random choice function might be useful here. \n",
    "    o = np.random.choice([0,1], size=snn_timestep, p=[0.3, 0.7])\n",
    "    \n",
    "    #Append all 4 cases of AND gate to train_data. Numpy stack operation might be useful here. \n",
    "    train_data.append((np.stack((z, z), axis=0), z))\n",
    "    train_data.append((np.stack((z, o), axis=0), z))\n",
    "    train_data.append((np.stack((o, z), axis=0), z))\n",
    "    train_data.append((np.stack((o, o), axis=0), o))\n",
    "\n",
    "    return train_data"
   ]
  },
  {
   "cell_type": "markdown",
   "metadata": {},
   "source": [
    "## 2b. \n",
    "We will use the implementation of the network from assignment 2 to create an SNN comprising of one input layer and one output layer. Can you explain algorithmically, how you can use this simple architecture to learn AND gate. Your algorithm should comprise of encoding, forward propagation, network training, and decoding steps. "
   ]
  },
  {
   "cell_type": "markdown",
   "metadata": {},
   "source": [
    "## Answer 2b. \n",
    "- Encoding: We can encode the input using a rate encoding\n",
    "- Architecture: We can use a simple 2 layer network with a single input and output layer\n",
    "- Training: Training is simple, we just iterate over the samples until our predictions converge to a good point in the loss functions\n",
    "- Decoding: We can decode the output using a simple thresholding function"
   ]
  },
  {
   "cell_type": "markdown",
   "metadata": {},
   "source": [
    "The SNN has already been implemented for you. You do not need to do anything here. Just understand the implementation so that you can use it in the later parts. "
   ]
  },
  {
   "cell_type": "code",
   "execution_count": 3,
   "metadata": {},
   "outputs": [],
   "source": [
    "class LIFNeurons:\n",
    "    \"\"\" \n",
    "        Define Leaky Integrate-and-Fire Neuron Layer \n",
    "        This class is complete. You do not need to do anything here.\n",
    "    \"\"\"\n",
    "\n",
    "    def __init__(self, dimension, vdecay, vth):\n",
    "        \"\"\"\n",
    "        Args:\n",
    "            dimension (int): Number of LIF neurons in the layer\n",
    "            vdecay (float): voltage decay of LIF neurons\n",
    "            vth (float): voltage threshold of LIF neurons\n",
    "        \n",
    "        \"\"\"\n",
    "        self.dimension = dimension\n",
    "        self.vdecay = vdecay\n",
    "        self.vth = vth\n",
    "\n",
    "        # Initialize LIF neuron states\n",
    "        self.volt = np.zeros(self.dimension)\n",
    "        self.spike = np.zeros(self.dimension)\n",
    "    \n",
    "    def __call__(self, psp_input):\n",
    "        \"\"\"\n",
    "        Args:\n",
    "            psp_input (ndarray): synaptic inputs \n",
    "        Return:\n",
    "            self.spike: output spikes from the layer\n",
    "                \"\"\"\n",
    "        self.volt = self.vdecay * self.volt * (1. - self.spike) + psp_input\n",
    "        self.spike = (self.volt > self.vth).astype(float)\n",
    "        return self.spike\n",
    "\n",
    "class Connections:\n",
    "    \"\"\" Define connections between spiking neuron layers \"\"\"\n",
    "\n",
    "    def __init__(self, weights, pre_dimension, post_dimension):\n",
    "        \"\"\"\n",
    "        Args:\n",
    "            weights (ndarray): connection weights\n",
    "            pre_dimension (int): dimension for pre-synaptic neurons\n",
    "            post_dimension (int): dimension for post-synaptic neurons\n",
    "        \"\"\"\n",
    "        self.weights = weights\n",
    "        self.pre_dimension = pre_dimension\n",
    "        self.post_dimension = post_dimension\n",
    "    \n",
    "    def __call__(self, spike_input):\n",
    "        \"\"\"\n",
    "        Args:\n",
    "            spike_input (ndarray): spikes generated by the pre-synaptic neurons\n",
    "        Return:\n",
    "            psp: postsynaptic layer activations\n",
    "        \"\"\"\n",
    "        psp = np.matmul(self.weights, spike_input)\n",
    "        return psp\n",
    "    \n",
    "    \n",
    "class SNN:\n",
    "    \"\"\" Define a Spiking Neural Network with No Hidden Layer \"\"\"\n",
    "\n",
    "    def __init__(self, input_2_output_weight, \n",
    "                 input_dimension=2, output_dimension=2,\n",
    "                 vdecay=0.5, vth=0.5, snn_timestep=20):\n",
    "        \"\"\"\n",
    "        Args:\n",
    "            input_2_hidden_weight (ndarray): weights for connection between input and hidden layer\n",
    "            hidden_2_output_weight (ndarray): weights for connection between hidden and output layer\n",
    "            input_dimension (int): input dimension\n",
    "            hidden_dimension (int): hidden_dimension\n",
    "            output_dimension (int): output_dimension\n",
    "            vdecay (float): voltage decay of LIF neuron\n",
    "            vth (float): voltage threshold of LIF neuron\n",
    "            snn_timestep (int): number of timesteps for inference\n",
    "        \"\"\"\n",
    "        self.snn_timestep = snn_timestep\n",
    "        self.output_layer = LIFNeurons(output_dimension, vdecay, vth)\n",
    "        self.input_2_output_connection = Connections(input_2_output_weight, input_dimension, output_dimension)\n",
    "    \n",
    "    def __call__(self, spike_encoding):\n",
    "        \"\"\"\n",
    "        Args:\n",
    "            spike_encoding (ndarray): spike encoding of input\n",
    "        Return:\n",
    "            spike outputs of the network\n",
    "        \"\"\"\n",
    "        spike_output = np.zeros(self.output_layer.dimension)\n",
    "        for tt in range(self.snn_timestep):\n",
    "            input_2_output_psp = self.input_2_output_connection(spike_encoding[:, tt])\n",
    "            output_spikes = self.output_layer(input_2_output_psp)\n",
    "            spike_output += output_spikes\n",
    "        return spike_output/self.snn_timestep      "
   ]
  },
  {
   "cell_type": "markdown",
   "metadata": {},
   "source": [
    "## 2c. \n",
    "Next, you need to write a function for network training using hebbian learning rule. The function is defined below. You need to fill in the components so that the network weights are updated in the right manner. "
   ]
  },
  {
   "cell_type": "code",
   "execution_count": 54,
   "metadata": {},
   "outputs": [],
   "source": [
    "def hebbian(network, train_data, lr=1e-5, epochs=10):\n",
    "    \"\"\" \n",
    "    Function to train a network using Hebbian learning rule\n",
    "        Args:\n",
    "            network (SNN): SNN network object\n",
    "            train_data (list): training data \n",
    "            lr (float): learning rate\n",
    "            epochs (int): number of epochs to train with. Each epoch is defined as one pass over all training samples. \n",
    "        \n",
    "        Write the operations required to compute the weight increment according to the hebbian learning rule. Then increment the network weights. \n",
    "    \"\"\"\n",
    "    \n",
    "    #iterate over the epochs\n",
    "    for ee in range(epochs):\n",
    "        #iterate over all samples in train_data\n",
    "        w = np.zeros((1, 2))\n",
    "        for data in train_data:\n",
    "            #compute the firing rate for the input\n",
    "            ri_1 = np.mean(data[0][0])\n",
    "            ri_2 = np.mean(data[0][1])\n",
    "\n",
    "            #compute the firing rate for the output\n",
    "            ro = np.mean(data[1])\n",
    "\n",
    "            #compute the correlation using the firing rates calculated above\n",
    "            c1 = ri_1 * ro\n",
    "            c2 = ri_2 * ro\n",
    "\n",
    "            #compute the weight increment\n",
    "            w[0][0] = c1 * lr\n",
    "            w[0][1] = c2 * lr\n",
    "\n",
    "            #increment the weight\n",
    "            network.input_2_output_connection.weights += w\n"
   ]
  },
  {
   "cell_type": "markdown",
   "metadata": {},
   "source": [
    "## 2d. \n",
    "In this exercise, you will use your implementations above to train an SNN to learn AND gate. "
   ]
  },
  {
   "cell_type": "code",
   "execution_count": 56,
   "metadata": {},
   "outputs": [
    {
     "name": "stdout",
     "output_type": "stream",
     "text": [
      "[[0.07703541 0.0112078 ]]\n",
      "Case  1  :  [0.4]\n",
      "Case  2  :  [0.25]\n",
      "Case  3  :  [0.3]\n",
      "Case  4  :  [0.6]\n",
      "[0, 0, 0, 1]\n",
      "[[0.31703541 0.2512078 ]]\n"
     ]
    }
   ],
   "source": [
    "#Define a variable for input dimension\n",
    "input_dimension = 2\n",
    "\n",
    "#Define a variable for output dimension\n",
    "output_dimension = 1\n",
    "\n",
    "#Define a variable for voltage decay\n",
    "vdecay = 0.5\n",
    "\n",
    "#Define a variable for voltage threshold\n",
    "vth = 0.5\n",
    "\n",
    "#Define a variable for snn timesteps\n",
    "snn_timestep = 20\n",
    "\n",
    "#Initialize randomly the weights from input to output. Numpy random rand function might be useful here. \n",
    "input_2_output_weight = np.random.rand(1, 2) / 10\n",
    "\n",
    "#print the initial weights\n",
    "print(input_2_output_weight)\n",
    "\n",
    "#Initialize an snn using the arguments defined above\n",
    "snn = SNN(input_2_output_weight, input_dimension, output_dimension, vdecay, vth, snn_timestep)\n",
    "\n",
    "#Get the training data for AND gate using the function defined in 2a. \n",
    "train_data = genANDTrainData(snn_timestep)\n",
    "\n",
    "#Train the network using the function defined in 2c. with the appropriate arguments\n",
    "hebbian(snn, train_data, lr = 2e-2, epochs = 20)\n",
    "\n",
    "#Test the trained network and print the network output for all 4 cases. \n",
    "output = []\n",
    "for i, data in enumerate(train_data):\n",
    "    out = snn(data[0])\n",
    "    print(\"Case \", i+1, \" : \", out)\n",
    "\n",
    "    if out > vth:\n",
    "        output.append(1)\n",
    "    else:\n",
    "        output.append(0)\n",
    "\n",
    "print(output)\n",
    "\n",
    "#Print Final Network Weights\n",
    "print(snn.input_2_output_connection.weights)"
   ]
  },
  {
   "cell_type": "markdown",
   "metadata": {},
   "source": [
    "# Question 3: Limitations of Hebbian Learning rule\n",
    "\n",
    "## 3a. \n",
    "Can you learn the AND gate using 2 neurons in the output layer instead of one? If yes, describe what changes you might need to make to your algorithm in 2b. If not, explain why not, and what consequences it might entail for the use of hebbian learning for complex real-world tasks. "
   ]
  },
  {
   "cell_type": "markdown",
   "metadata": {},
   "source": [
    "## Answer 3a. \n",
    "It really makes no sense to use two neurons for something as simple as an AND gate. The AND gate is a simple function that can be learned by a single neuron. However, if you were to use two neurons, you would need to change the decoding function to take the max of the two neurons."
   ]
  },
  {
   "cell_type": "markdown",
   "metadata": {},
   "source": [
    "## 3b. \n",
    "Train the network using hebbian learning for AND gate with the same arguments as defined in 2d. but now multiply the number of epochs by 20. Can your network still learn AND gate correctly? Inspect the initial and final network weights, and compare them against the network weights in 2d. Based on this, explain your observations for the network behavior. "
   ]
  },
  {
   "cell_type": "code",
   "execution_count": 57,
   "metadata": {},
   "outputs": [
    {
     "name": "stdout",
     "output_type": "stream",
     "text": [
      "[[0.05525041 0.07584377]]\n",
      "Case  1  :  [0.25]\n",
      "Case  2  :  [0.6]\n",
      "Case  3  :  [0.6]\n",
      "Case  4  :  [0.5]\n",
      "[0, 1, 1, 0]\n",
      "[[4.05525041 4.07584377]]\n"
     ]
    }
   ],
   "source": [
    "#Define a variable for input dimension\n",
    "input_dimension = 2\n",
    "\n",
    "#Define a variable for output dimension\n",
    "output_dimension = 1\n",
    "\n",
    "#Define a variable for voltage decay\n",
    "vdecay = 0.5\n",
    "\n",
    "#Define a variable for voltage threshold\n",
    "vth = 0.5\n",
    "\n",
    "#Define a variable for snn timesteps\n",
    "snn_timestep = 20\n",
    "\n",
    "#Initialize randomly the weights from input to output. Numpy random rand function might be useful here. \n",
    "input_2_output_weight = np.random.rand(1, 2) / 10\n",
    "\n",
    "#print the initial weights\n",
    "print(input_2_output_weight)\n",
    "\n",
    "#Initialize an snn using the arguments defined above\n",
    "snn = SNN(input_2_output_weight, input_dimension, output_dimension, vdecay, vth, snn_timestep)\n",
    "\n",
    "#Get the training data for AND gate using the function defined in 2a. \n",
    "train_data = genANDTrainData(snn_timestep)\n",
    "\n",
    "#Train the network using the function defined in 2c. with the appropriate arguments\n",
    "hebbian(snn, train_data, lr = 2e-2, epochs = 400)\n",
    "\n",
    "#Test the trained network and print the network output for all 4 cases. \n",
    "output = []\n",
    "for i, data in enumerate(train_data):\n",
    "    out = snn(data[0])\n",
    "    print(\"Case \", i+1, \" : \", out)\n",
    "\n",
    "    if out > vth:\n",
    "        output.append(1)\n",
    "    else:\n",
    "        output.append(0)\n",
    "\n",
    "print(output)\n",
    "\n",
    "#Print Final Network Weights\n",
    "print(snn.input_2_output_connection.weights)"
   ]
  },
  {
   "cell_type": "markdown",
   "metadata": {},
   "source": [
    "## Answer 3b. \n",
    "After 400 epochs it looks like the network fails to learn the AND gate. Moreover it looks like the network has oversaturated similar to what we observed in the first assignment. We can likely fix this by using a learning rate that decays over time again similar to what we used in the first assignment."
   ]
  },
  {
   "cell_type": "markdown",
   "metadata": {},
   "source": [
    "## 3c. \n",
    "Based on your observations and response in 3b., can you explain another limitation of hebbian learning rule w.r.t. weight growth? Can you also suggest a possible remedy for it?"
   ]
  },
  {
   "cell_type": "markdown",
   "metadata": {},
   "source": [
    "## Answer 3c. \n",
    "There is no fix to the weight growth problem in Hebbian learning. The weights will always grow and saturate. This is a fundamental limitation of Hebbian learning. We can fix this by using Oja's rule. Oja's rule is a variant of Hebbian learning that normalizes the weights to prevent them from growing too large. This change allows for a more stable weight update."
   ]
  },
  {
   "cell_type": "markdown",
   "metadata": {},
   "source": [
    "## 3d. \n",
    "To resolve the issues with hebbian learning, one possibility is Oja's rule. In this exercise, you will implement and train an SNN using Oja's learning rule. "
   ]
  },
  {
   "cell_type": "code",
   "execution_count": 58,
   "metadata": {},
   "outputs": [],
   "source": [
    "def oja(network, train_data, lr=1e-5, epochs=10):\n",
    "    \"\"\" \n",
    "    Function to train a network using Hebbian learning rule\n",
    "        Args:\n",
    "            network (SNN): SNN network object\n",
    "            train_data (list): training data \n",
    "            lr (float): learning rate\n",
    "            epochs (int): number of epochs to train with. Each epoch is defined as one pass over all training samples. \n",
    "        \n",
    "        Write the operations required to compute the weight increment according to the hebbian learning rule. Then increment the network weights. \n",
    "    \"\"\"\n",
    "    \n",
    "    #iterate over the epochs\n",
    "    for ee in range(epochs):\n",
    "        #iterate over all samples in train_data\n",
    "        w = np.zeros((1, 2))\n",
    "        for data in train_data:\n",
    "            #compute the firing rate for the input\n",
    "            ri_1 = np.mean(data[0][0])\n",
    "            ri_2 = np.mean(data[0][1])\n",
    "\n",
    "            #compute the firing rate for the output\n",
    "            ro = np.mean(data[1])\n",
    "\n",
    "            #compute the correlation using the firing rates calculated above\n",
    "            c1 = ri_1 * ro\n",
    "            c2 = ri_2 * ro\n",
    "\n",
    "            ot_1 = network.input_2_output_connection.weights[0][0] * ro\n",
    "            ot_2 = network.input_2_output_connection.weights[0][1] * ro\n",
    "\n",
    "            # #compute the weight increment\n",
    "            w[0][0] = (c1 - ot_1) * lr * ro\n",
    "            w[0][1] = (c2 - ot_2) * lr * ro\n",
    "\n",
    "            #increment the weight\n",
    "            network.input_2_output_connection.weights += w\n"
   ]
  },
  {
   "cell_type": "markdown",
   "metadata": {},
   "source": [
    "Now, test your implementation below. "
   ]
  },
  {
   "cell_type": "code",
   "execution_count": 114,
   "metadata": {},
   "outputs": [
    {
     "name": "stdout",
     "output_type": "stream",
     "text": [
      "[[0.07595651 0.03276177]]\n",
      "Case  1  :  [0.4]\n",
      "Case  2  :  [0.5]\n",
      "Case  3  :  [0.5]\n",
      "Case  4  :  [0.75]\n",
      "[0, 0, 0, 1]\n",
      "[[0.44737526 0.42798215]]\n"
     ]
    }
   ],
   "source": [
    "#Define a variable for input dimension\n",
    "input_dimension = 2\n",
    "\n",
    "#Define a variable for output dimension\n",
    "output_dimension = 1\n",
    "\n",
    "#Define a variable for voltage decay\n",
    "vdecay = 0.5\n",
    "\n",
    "#Define a variable for voltage threshold\n",
    "vth = 0.5\n",
    "\n",
    "#Define a variable for snn timesteps\n",
    "snn_timestep = 20\n",
    "\n",
    "#Initialize randomly the weights from input to output. Numpy random rand function might be useful here. \n",
    "input_2_output_weight = np.random.rand(1, 2) / 10\n",
    "\n",
    "#print the initial weights\n",
    "print(input_2_output_weight)\n",
    "\n",
    "#Initialize an snn using the arguments defined above\n",
    "snn = SNN(input_2_output_weight, input_dimension, output_dimension, vdecay, vth, snn_timestep)\n",
    "\n",
    "#Get the training data for AND gate using the function defined in 2a. \n",
    "train_data = genANDTrainData(snn_timestep)\n",
    "\n",
    "#Train the network using the function defined in 3d. with the appropriate arguments\n",
    "oja(snn, train_data, lr = 2e-3, epochs = 400)\n",
    "\n",
    "#Test the trained network and print the network output for all 4 cases. \n",
    "output = []\n",
    "for i, data in enumerate(train_data):\n",
    "    out = snn(data[0])\n",
    "    print(\"Case \", i+1, \" : \", out)\n",
    "\n",
    "    if out > vth:\n",
    "        output.append(1)\n",
    "    else:\n",
    "        output.append(0)\n",
    "\n",
    "print(output)\n",
    "\n",
    "#Print Final Network Weights\n",
    "print(snn.input_2_output_connection.weights)"
   ]
  },
  {
   "cell_type": "markdown",
   "metadata": {},
   "source": [
    "# Question 4: Spike-time dependent plasticity (STDP)\n",
    "\n",
    "## 4a. \n",
    "What is the limitation with hebbian learning that STDP aims to resolve?"
   ]
  },
  {
   "cell_type": "markdown",
   "metadata": {},
   "source": [
    "## Answer 4a. \n",
    "An issue in hebbian learning is that the association between two neurons is not strengthened if they happen around the same time. STDP aims to fix this by strengthening the association between two neurons if they fire close to each other in time."
   ]
  },
  {
   "cell_type": "markdown",
   "metadata": {},
   "source": [
    "## 4b. \n",
    "Describe the algorithm to train a network using STDP learning rule. You do not need to describe encoding here. Your algorithm should be such that its naturally translatable to a program. "
   ]
  },
  {
   "cell_type": "markdown",
   "metadata": {},
   "source": [
    "## Answer 4b. \n",
    "STDP uses pre and post synaptic spikes to update the weights. If the pre-synaptic spike happens before the post-synaptic spike, the weight is increased. If the post-synaptic spike happens before the pre-synaptic spike, the weight is decreased. This is a simple learning rule that is biologically plausible.\n",
    "\n",
    "In the network the connections have time delays. The time delays are used to calculate the time difference between the pre and post synaptic spikes. If the time difference is positive, the weight is increased. If the time difference is negative, the weight is decreased."
   ]
  },
  {
   "cell_type": "markdown",
   "metadata": {},
   "source": [
    "## 4c. \n",
    "In this exercise, you will implement the STDP learning algorithm to train a network. STDP has many different flavors. For this exercise, we will use the learning rule defined in: https://dl.acm.org/doi/pdf/10.1609/aaai.v33i01.330110021. Pay special attention to Equations 2 and 3. \n",
    "\n",
    "Below is the class definition for STDP learning algorithm. Your task is to fill in the components so that the weights are updated in the right manner. "
   ]
  },
  {
   "cell_type": "code",
   "execution_count": 4,
   "metadata": {},
   "outputs": [],
   "source": [
    "class STDP():\n",
    "    \"\"\"Train a network using STDP learning rule\"\"\"\n",
    "    def __init__(self, network, A_plus, A_minus, tau_plus, tau_minus, lr, snn_timesteps=20, epochs=30, w_min=0, w_max=1):\n",
    "        \"\"\"\n",
    "        Args:\n",
    "            network (SNN): network which needs to be trained\n",
    "            A_plus (float): STDP hyperparameter\n",
    "            A_minus (float): STDP hyperparameter\n",
    "            tau_plus (float): STDP hyperparameter\n",
    "            tau_minus (float): STDP hyperparameter\n",
    "            lr (float): learning rate\n",
    "            snn_timesteps (int): SNN simulation timesteps\n",
    "            epochs (int): number of epochs to train with. Each epoch is defined as one pass over all training samples.  \n",
    "            w_min (float): lower bound for the weights\n",
    "            w_max (float): upper bound for the weights\n",
    "        \"\"\"\n",
    "        self.network = network\n",
    "        self.A_plus = A_plus\n",
    "        self.A_minus = A_minus\n",
    "        self.tau_plus = tau_plus\n",
    "        self.tau_minus = tau_minus\n",
    "        self.snn_timesteps = snn_timesteps\n",
    "        self.lr = lr\n",
    "        self.time = np.arange(0, self.snn_timesteps, 1)\n",
    "        self.sliding_window = np.arange(-4, 4, 1) #defines a sliding window for STDP operation. \n",
    "        self.epochs = epochs\n",
    "        self.w_min = w_min\n",
    "        self.w_max = w_max\n",
    "    \n",
    "    def update_weights(self, t, i):\n",
    "        \"\"\"\n",
    "        Function to update the network weights using STDP learning rule\n",
    "        \n",
    "        Args:\n",
    "            t (int): time difference between postsynaptic spike and a presynaptic spike in a sliding window\n",
    "            i(int): index of the presynaptic neuron\n",
    "        \n",
    "        Fill the details of STDP implementation\n",
    "        \"\"\"\n",
    "        #compute delta_w for positive time difference\n",
    "        if t>0:\n",
    "            delta_w = self.A_plus * math.exp(-t/self.tau_plus)\n",
    "        #compute delta_w for negative time difference\n",
    "        else:\n",
    "            delta_w = -self.A_minus * math.exp(-t/self.tau_minus)\n",
    "            \n",
    "        #update the network weights if weight increment is negative\n",
    "        if delta_w < 0:\n",
    "            change = self.lr * delta_w * (self.network.input_2_output_connection.weights - self.w_min)\n",
    "            self.network.input_2_output_connection.weights += change\n",
    "        #update the network weights if weight increment is positive\n",
    "        elif delta_w > 0:\n",
    "            change = self.lr * delta_w * (self.w_max - self.network.input_2_output_connection.weights)\n",
    "            self.network.input_2_output_connection.weights += change\n",
    "            \n",
    "    def train_step(self, train_data_sample):\n",
    "        \"\"\"\n",
    "        Function to train the network for one training sample using the update function defined above. \n",
    "        \n",
    "        Args:\n",
    "            train_data_sample (list): a sample from the training data\n",
    "            \n",
    "        This function is complete. You do not need to do anything here. \n",
    "        \"\"\"\n",
    "        input = train_data_sample[0]\n",
    "        output = train_data_sample[1]\n",
    "        for t in self.time:\n",
    "            if output[t] == 1:\n",
    "                for i in range(2):\n",
    "                    for t1 in self.sliding_window:\n",
    "                        if (0<= t + t1 < self.snn_timesteps) and (t1!=0) and (input[i][t+t1] == 1):\n",
    "                            self.update_weights(t1, i)\n",
    "    \n",
    "    def train(self, training_data):\n",
    "        \"\"\"\n",
    "        Function to train the network\n",
    "        \n",
    "        Args:\n",
    "            training_data (list): training data\n",
    "        \n",
    "        This function is complete. You do not need to do anything here. \n",
    "        \"\"\"\n",
    "        for ee in range(self.epochs):\n",
    "            for train_data_sample in training_data:\n",
    "                self.train_step(train_data_sample)"
   ]
  },
  {
   "cell_type": "markdown",
   "metadata": {},
   "source": [
    "Let's test the implementation"
   ]
  },
  {
   "cell_type": "code",
   "execution_count": 10,
   "metadata": {},
   "outputs": [
    {
     "name": "stdout",
     "output_type": "stream",
     "text": [
      "[[0.81561567 0.62389058]]\n",
      "Case  1  :  [0.3]\n",
      "Case  2  :  [0.45]\n",
      "Case  3  :  [0.45]\n",
      "Case  4  :  [0.65]\n",
      "[0, 0, 0, 1]\n"
     ]
    }
   ],
   "source": [
    "#Define a variable for input dimension\n",
    "input_dimension = 2\n",
    "\n",
    "#Define a variable for output dimension\n",
    "output_dimension = 1\n",
    "\n",
    "#Define a variable for voltage decay\n",
    "vdecay = 0.5\n",
    "\n",
    "#Define a variable for voltage threshold\n",
    "vth = 0.5\n",
    "\n",
    "#Define a variable for snn timesteps\n",
    "snn_timestep = 20\n",
    "\n",
    "#Initialize randomly the weights from input to output. Numpy random rand function might be useful here. \n",
    "input_2_output_weight = np.random.rand(1, 2)\n",
    "print(input_2_output_weight)\n",
    "\n",
    "#Initialize an snn using the arguments defined above\n",
    "snn = SNN(input_2_output_weight, input_dimension, output_dimension, vdecay, vth, snn_timestep)\n",
    "\n",
    "#Get the training data for AND gate using the function defined in 2a. \n",
    "train_data = genANDTrainData(snn_timestep)\n",
    "\n",
    "#Create an object of STDP class with appropriate arguments\n",
    "stdp = STDP(snn, A_plus=0.6, A_minus=0.3, tau_plus=8, tau_minus=5, lr=0.25, snn_timesteps=5, epochs=30, w_min=0, w_max=1)\n",
    "\n",
    "#Train the network using STDP\n",
    "stdp.train(train_data)\n",
    "\n",
    "#Test the trained network and print the network output for all 4 cases. \n",
    "output = []\n",
    "for i, data in enumerate(train_data):\n",
    "    out = snn(data[0])\n",
    "    print(\"Case \", i+1, \" : \", out)\n",
    "\n",
    "    if out > vth:\n",
    "        output.append(1)\n",
    "    else:\n",
    "        output.append(0)\n",
    "\n",
    "print(output)"
   ]
  },
  {
   "cell_type": "markdown",
   "metadata": {},
   "source": [
    "# Question 5: OR Gate\n",
    "Can you train the network with the same architecture in Q2-4 for learning the OR gate. You will need to create another function called genORTrainData. Then create an SNN and train it using STDP. "
   ]
  },
  {
   "cell_type": "code",
   "execution_count": 11,
   "metadata": {},
   "outputs": [],
   "source": [
    "def genORTrainData(snn_timestep):\n",
    "    \"\"\" \n",
    "    Function to generate the training data for AND \n",
    "        Args:\n",
    "            snn_timestep (int): timesteps for SNN simulation\n",
    "        Return:\n",
    "            train_data (list): list of tuples where each tuple comprises of numpy arrays of rate-coded inputs and output\n",
    "        \n",
    "        Write the expressions for encoding 0 and 1. Then append all 4 cases of AND gate to the list train_data\n",
    "    \"\"\"\n",
    "    \n",
    "    #Initialize an empty list for train data\n",
    "    train_data = []\n",
    "    \n",
    "    #encode 0. Numpy random choice function might be useful here. \n",
    "    z = np.random.choice([0,1], size=snn_timestep, p=[0.7, 0.3])\n",
    "    \n",
    "    #encode 1. Numpy random choice function might be useful here. \n",
    "    o = np.random.choice([0,1], size=snn_timestep, p=[0.3, 0.7])\n",
    "    \n",
    "    #Append all 4 cases of AND gate to train_data. Numpy stack operation might be useful here. \n",
    "    train_data.append((np.stack((z, z), axis=0), z))\n",
    "    train_data.append((np.stack((z, o), axis=0), o))\n",
    "    train_data.append((np.stack((o, z), axis=0), o))\n",
    "    train_data.append((np.stack((o, o), axis=0), o))\n",
    "\n",
    "    return train_data"
   ]
  },
  {
   "cell_type": "code",
   "execution_count": 13,
   "metadata": {},
   "outputs": [
    {
     "name": "stdout",
     "output_type": "stream",
     "text": [
      "[[0.63853067 0.24668528]]\n",
      "Case  1  :  [0.15]\n",
      "Case  2  :  [0.2]\n",
      "Case  3  :  [0.2]\n",
      "Case  4  :  [0.7]\n",
      "[[0.28751783 0.28751783]]\n",
      "[0, 0, 0, 1]\n"
     ]
    }
   ],
   "source": [
    "#Define a variable for input dimension\n",
    "input_dimension = 2\n",
    "\n",
    "#Define a variable for output dimension\n",
    "output_dimension = 1\n",
    "\n",
    "#Define a variable for voltage decay\n",
    "vdecay = 0.5\n",
    "\n",
    "#Define a variable for voltage threshold\n",
    "vth = 0.5\n",
    "\n",
    "#Define a variable for snn timesteps\n",
    "snn_timestep = 20\n",
    "\n",
    "#Initialize randomly the weights from input to output. Numpy random rand function might be useful here. \n",
    "input_2_output_weight = np.random.rand(1, 2)\n",
    "print(input_2_output_weight)\n",
    "\n",
    "#Initialize an snn using the arguments defined above\n",
    "snn = SNN(input_2_output_weight, input_dimension, output_dimension, vdecay, vth, snn_timestep)\n",
    "\n",
    "#Get the training data for AND gate using the function defined in 2a. \n",
    "train_data = genORTrainData(snn_timestep)\n",
    "\n",
    "#Create an object of STDP class with appropriate arguments\n",
    "stdp = STDP(snn, A_plus=0.6, A_minus=0.3, tau_plus=8, tau_minus=5, lr=0.25, snn_timesteps=5, epochs=30, w_min=0, w_max=1)\n",
    "\n",
    "#Train the network using STDP\n",
    "stdp.train(train_data)\n",
    "\n",
    "#Test the trained network and print the network output for all 4 cases. \n",
    "output = []\n",
    "for i, data in enumerate(train_data):\n",
    "    out = snn(data[0])\n",
    "    print(\"Case \", i+1, \" : \", out)\n",
    "\n",
    "    if out > vth:\n",
    "        output.append(1)\n",
    "    else:\n",
    "        output.append(0)\n",
    "\n",
    "print(input_2_output_weight)\n",
    "\n",
    "print(output)"
   ]
  }
 ],
 "metadata": {
  "kernelspec": {
   "display_name": "Python 3 (ipykernel)",
   "language": "python",
   "name": "python3"
  },
  "language_info": {
   "codemirror_mode": {
    "name": "ipython",
    "version": 3
   },
   "file_extension": ".py",
   "mimetype": "text/x-python",
   "name": "python",
   "nbconvert_exporter": "python",
   "pygments_lexer": "ipython3",
   "version": "3.9.5"
  }
 },
 "nbformat": 4,
 "nbformat_minor": 4
}
